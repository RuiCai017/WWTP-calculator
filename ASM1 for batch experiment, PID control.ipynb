{
 "cells": [
  {
   "cell_type": "markdown",
   "metadata": {},
   "source": [
    "Calculator for batch experiments simulation using ASM 1, PID control\n",
    "\n",
    "1. Model compounds  \n",
    "\n",
    "| Parameter | Symbol | Typical Value in WWTP | Units |\n",
    "|:----------|:-------|:----------------------|:------|\n",
    "| Soluble inert organics|  $S_{I}$ | 30 | g COD/m$^{3}$ |\n",
    "| Readily biodegradable substrates |  $S_{S}$ | 60 | g COD/m$^{3}$ |\n",
    "| Inert particulate organics | $X_{I}$ | 25 | g COD/m$^{3}$ |\n",
    "| Slowly biodegradable substrates | $X_{S}$ | 115 | g COD/m$^{3}$ |\n",
    "| Heterotrophic biomass | $X_{H}$ | 30 | g /m$^{3}$ |\n",
    "| Autotrophic, nitrifying biomass | $X_{A}$ | >0 | g /m$^{3}$ |\n",
    "| Particulate pruducts arising from biomass decay | $X_{P}$ | >0 | g COD/m$^{3}$ |\n",
    "| Dissolved oxygen |  $S_{O}$ | >0 | g $O_{2}$/m$^{3}$ |\n",
    "| Nitrite and nitrate |  $S_{NO}$ | >0 | g N/m$^{3}$ |\n",
    "| Ammonium | $S_{NH}$ | 16 | g N/m$^{3}$ |\n",
    "| Soluble biodegradable organic nitrogen | $S_{ND}$ | 8 | g N/m$^{3}$ |\n",
    "| Particulate biodegradable organic nitrogen |$X_{ND}$ | 10 | g N/m$^{3}$ |\n",
    "| Alkalinity | ALK | 5 | mol $HCO_3^-$/m$^{3}$ |\n",
    "| Mixed liquor suspended solids | MLSS | 125 | g SS/m$^{3}$ |\n"
   ]
  },
  {
   "cell_type": "markdown",
   "metadata": {},
   "source": [
    "2. Stoichiometric and composition parameters\n",
    "\n",
    "| Parameter | Symbol | Typical Value in WWTP | Units |\n",
    "|:----------|:-------|:----------------------|:------|\n",
    "| The fraction of the biomass leading to inert particulate products |  $f_{P}$ | 0.08 | —— |\n",
    "| Yield of heterotrophic biomass |  $Y_{H}$ | 0.67 | g cell /g COD oxidized |\n",
    "| Yield of autotrophic biomass | $Y_{A}$ | 0.24 | g cell /g N oxidized |\n",
    "| Mass of nitrogen per mass of COD in biomass | $i_{XB}$ | 0.088 | g N / g COD |\n",
    "| Mass of nitrogen per mass of COD in products from biomass |$i_{XP}$ | 0.088 | g N / g COD |\n"
   ]
  },
  {
   "cell_type": "code",
   "execution_count": 3,
   "metadata": {},
   "outputs": [],
   "source": [
    "fP=0.08\n",
    "YH=0.67\n",
    "YA=0.24\n",
    "iXB=0.088\n",
    "iXP=0.088"
   ]
  },
  {
   "cell_type": "markdown",
   "metadata": {},
   "source": [
    "3. basic parameters\n",
    "\n",
    "| Parameter | Symbol | Units |\n",
    "|:----------|:-------|:------|\n",
    "| Tempurature| Temp | &deg;C |\n",
    "| Saturated DO concentration  |  $C_{s}$ | g/m$^{3}$ |"
   ]
  },
  {
   "cell_type": "code",
   "execution_count": 4,
   "metadata": {},
   "outputs": [],
   "source": [
    "Temp=20\n",
    "CS=9"
   ]
  },
  {
   "cell_type": "markdown",
   "metadata": {},
   "source": [
    "4. Kinetic parameters\n",
    "\n",
    "| Parameter | Symbol | at 10 &deg;C | at 20 &deg;C | Units |\n",
    "|:----------|:-------|:-------------|:-------------|:------|\n",
    "| Heterotrophic max. growth rate | $\\mu_{H}$ | 3.0 | 6.0 | /day |\n",
    "| Saturation constant for substrate  |  $K_{S}$ | 20 | 20 | g COD/m$^{-3}$ |\n",
    "| Saturation constant for heterotrophs consuming oxygen | $K_{HO}$ | 0.2 |0.2 | g $O_2$/m$^{3}$ |\n",
    "| Saturation constant for consuming nitrate | $K_{NO}$ | 0.5 |0.5 | g $NO_3$-N / m$^{3}$ |\n",
    "| Decay rate for biomass |$b$ | 0.2 | 0.62 | /day |\n",
    "| Correction factor for $\\mu_{H}$ under anxic conditions |$\\eta_{g}$ | 0.8 |0.8 | —— |\n",
    "| Correction factor for hydrolysis under anxic conditions |  $\\eta_{h}$ | 0.4 |0.4 | —— |\n",
    "| Max. specific hydrolysis rate |  $k_{h}$ | 1 | 3 | /(g cell COD - day) |\n",
    "| Saturation constant for hydrolysis |  $K_{X}$ | 0.01 | 0.03 | /g cell COD |\n",
    "| Autotrophic max. growth rate | $\\mu_{A}$ | 0.3 | 0.8 | /day |\n",
    "| Saturation constant for autotrophs consuming ammonium | $K_{NH}$ | 1 | 1 | g $NH_4$-N/m$^{3}$ |\n",
    "| Saturation constant for autotrophs consuming oxygen |$K_{AO}$ | 0.4 | 0.4 | g $O_2$-N/m$^{3}$ |\n",
    "| Ammonification rate | $k_{a}$ | 0.04 | 0.08 | m$^{3}$ / (g COD - day) |\n",
    "\n",
    "\n",
    "The default kinetic parameters value at certain temperatures (8–23 &deg;C) are calculated by interpolation from the typical value table."
   ]
  },
  {
   "cell_type": "code",
   "execution_count": 5,
   "metadata": {},
   "outputs": [],
   "source": [
    "import numpy as np\n",
    "µH=6*np.exp(0.069314718*(Temp-20))\n",
    "KS=20\n",
    "KHO=0.2\n",
    "KNO=0.5\n",
    "b=0.62*np.exp(0.113140211*(Temp-20))\n",
    "ηg=0.8\n",
    "ηh=0.4\n",
    "kh=3*np.exp(0.109861229*(Temp-20))\n",
    "KX=0.03*np.exp(0.109861229*(Temp-20))\n",
    "#convert from day to minute\n",
    "µA=0.8*np.exp(0.098082925*(Temp-20))\n",
    "KNH=1\n",
    "KAO=0.4\n",
    "ka=0.08*np.exp(0.069314718*(Temp-20))"
   ]
  },
  {
   "cell_type": "markdown",
   "metadata": {},
   "source": [
    "5. Kinects and Stoichiometric matrix of ASM 1 .\n",
    "\n",
    "|  | Process | $S_{I}$  | $S_{S}$ | $X_{I}$ | $X_{S}$ | $X_{H}$ | $X_{A}$ | $X_{P}$ | $S_{O}$ | $S_{NO}$ | $S_{NH}$ | $S_{ND}$ | $X_{ND}$ | ALK | Process rate |\n",
    "|:-|:--------|:---------|:--------|:--------|:--------|:--------|:--------|:--------|:--------|:---------|:---------|:---------|:---------|:----|:-------------|\n",
    "|1| aerobic growth of heterotrophs |—| $-\\frac {1} {Y_{H}}$ |—|—|1|—|—|$$-\\frac {1-Y_{H}} {Y_{H}}$$|—|$-i_{XB}$|—|—|$-\\frac {i_{XB}} {14}$|$$\\mu_{H}\\cdot(\\frac {S_{S}}{K_{S}+S_{S}})\\cdot(\\frac {S_{O}}{K_{HO}+S_{O}})\\cdot X_{H}$$|\n",
    "|2| anoxic growth of heterotrophs  |—| $-\\frac {1} {Y_{H}}$ |—|—|1|—|—|—|$$-\\frac {1-Y_{H}} {2.86Y_{H}}$$|$-i_{XB}$|—|—|$$\\frac {1-Y_{H}} {14 \\cdot 2.86Y_{H}} -\\frac {i_{XB}} {14}$$|$$\\mu_{H}\\cdot(\\frac {S_{S}}{K_{S}+S_{S}})\\cdot(\\frac {S_{O}}{K_{HO}+S_{O}})\\cdot(\\frac {S_{NO}}{K_{NO}+S_{NO}})\\cdot \\eta_{g} \\cdot X_{H}$$|\n",
    "|3| aerobic growth of autotrophs |—|—|—|—|—|1|—|$$-\\frac {4.57-Y_{A}} {Y_{A}}$$|$\\frac {1} {Y_{A}}$|$$-i_{XB}-\\frac {1} {Y_{A}}$$|—|—|$$-\\frac {i_{XB}}{14}-\\frac {1} {7Y_{A}}$$|$$\\mu_{A}\\cdot(\\frac {S_{NH}}{K_{NH}+S_{NH}})\\cdot(\\frac {S_{O}}{K_{AO}+S_{O}})\\cdot X_{A}$$|\n",
    "|4| Decay of heterotrophs |—|—|—|$$1-f_{P}$$|-1|—|$f_{P}$|—|—|—|—|$$i_{XB}-f_{P} \\cdot i_{XP}$$|—|$$b \\cdot X_{H}$$|\n",
    "|5| Decay of autotrophs |—|—|—|$$1-f_{P}$$|—|-1|$f_{P}$|—|—|—|—|$$i_{XB}-f_{P} \\cdot i_{XP}$$|—|$$b \\cdot X_{A}$$|\n",
    "|6| Ammonification of organic nitrogen |—|—|—|—|—|—|—|—|—|1|-1|—| $\\frac {1} {14}$|$$k_{a} \\cdot S_{ND} \\cdot X_{H}$$|\n",
    "|7| Hydrolysis of organics |—|1|—|-1|—|—|—|—|—|—|—|—|—|$$k_{h}\\cdot \\frac {X_{S}/X_{H}}{K_{X}+X_{S}/X_{H}}[(\\frac {S_{O}}{K_{HO}+S_{O}})+\\eta_{h}\\cdot  (\\frac {K_{HO}}{K_{HO}+S_{O}})\\cdot(\\frac {S_{NO}}{K_{NO}+S_{NO}})]\\cdot X_{H}$$|\n",
    "|8| Hydrolysis of organic nitrogen |—|—|—|—|—|—|—|—|—|—|1|-1|—|$$Process\\,rate\\,7\\cdot (X_{ND}/X_{S})$$|"
   ]
  },
  {
   "cell_type": "code",
   "execution_count": 30,
   "metadata": {},
   "outputs": [],
   "source": [
    "kinectmatrix=np.array([[0,-1/YH,0,0,1,0,0,-(1-YH)/YH,0,-iXB,0,0,-iXB/14],\n",
    "                      [0,-1/YH,0,0,1,0,0,0,-(1-YH)/2.86/YH,-iXB,0,0,(1-YH)/14/2.86/YH-iXB/14],\n",
    "                      [0,0,0,0,0,1,0,-(4.57-YA)/YA,1/YA,-iXB-1/YA,0,0,-iXB/14-1/7/YA],\n",
    "                      [0,0,0,1-fP,-1,0,fP,0,0,0,0,iXB-fP*iXP,0],\n",
    "                      [0,0,0,1-fP,0,-1,fP,0,0,0,0,iXB-fP*iXP,0],\n",
    "                      [0,0,0,0,0,0,0,0,0,1,-1,0,1/14],\n",
    "                      [0,1,0,-1,0,0,0,0,0,0,0,0,0],\n",
    "                      [0,0,0,0,0,0,0,0,0,0,1,-1,0]])"
   ]
  },
  {
   "cell_type": "code",
   "execution_count": 31,
   "metadata": {},
   "outputs": [],
   "source": [
    "# Initial condition\n",
    "initialSI=30\n",
    "initialSS=300\n",
    "initialXI=15\n",
    "initialXS=68\n",
    "initialXH=17\n",
    "initialXA=0\n",
    "initialXP=0\n",
    "initialSO=8.25\n",
    "initialSNO=1\n",
    "initialSNH=10\n",
    "initialSND=8\n",
    "initialXND=10\n",
    "initialALK=5\n",
    "#MLSS=XI+XS+XH+XA+XP\n",
    "initialKLa=0\n",
    "KLaarray=[initialKLa]\n",
    "conc=np.zeros(shape=(1,13))\n",
    "delreac=np.zeros(shape=(1,13))\n",
    "conc[0]=[initialSI,initialSS,initialXI,initialXS,initialXH,initialXA,initialXP,initialSO,initialSNO,initialSNH,initialSND,initialXND,initialALK]"
   ]
  },
  {
   "cell_type": "code",
   "execution_count": 32,
   "metadata": {},
   "outputs": [
    {
     "name": "stdout",
     "output_type": "stream",
     "text": [
      "3600\n"
     ]
    }
   ],
   "source": [
    "#Reaction time,198min\n",
    "T=600/24/60\n",
    "#delt,10s=1/60min\n",
    "delt=10/60/24/60\n",
    "n=int(T/delt)\n",
    "timerange = np.linspace(0,T,n)\n",
    "print(n)"
   ]
  },
  {
   "cell_type": "markdown",
   "metadata": {},
   "source": [
    "The aerator PID Control:\n",
    "\n"
   ]
  },
  {
   "cell_type": "code",
   "execution_count": 33,
   "metadata": {},
   "outputs": [],
   "source": [
    "maxkla=120\n",
    "minkla=40\n",
    "DOsetpoint=6\n",
    "kp=250\n",
    "ki=8\n",
    "kd=1\n",
    "DOdiff=[conc[0,7]-DOsetpoint]"
   ]
  },
  {
   "cell_type": "code",
   "execution_count": 34,
   "metadata": {},
   "outputs": [
    {
     "name": "stdout",
     "output_type": "stream",
     "text": [
      "(3600, 13)\n"
     ]
    }
   ],
   "source": [
    "i=0\n",
    "while i<n-1:\n",
    "#avoiding organic nitrogen hydrolysis of rate calculation error when XS=0 \n",
    "    if conc[i,3]==0:         \n",
    "        P8=0\n",
    "    else:\n",
    "        P8=kh*conc[i,3]/conc[i,4]/(KX+conc[i,3]/conc[i,4])*(conc[i,7]/(KHO+conc[i,7])+ηh*KHO/(KHO+conc[i,7])*conc[i,8]/(KNO+conc[i,8]))*conc[i,4]*conc[i,11]/conc[i,3]\n",
    "    processrate=np.array([µH*(conc[i,1]/(KS+conc[i,1]))*(conc[i,7]/(KHO+conc[i,7]))*conc[i,4],\n",
    "                     µH*(conc[i,1]/(KS+conc[i,1]))*(conc[i,7]/(KHO+conc[i,7]))*(conc[i,8]/(KNO+conc[i,8]))*ηg*conc[i,4],\n",
    "                     µA*(conc[i,9]/(KNH+conc[i,9]))*(conc[i,7]/(KAO+conc[i,7]))*conc[i,5],\n",
    "                     b*conc[i,4],\n",
    "                     b*conc[i,5],\n",
    "                     ka*conc[i,10]*conc[i,4],\n",
    "                     kh*conc[i,3]/conc[i,4]/(KX+conc[i,3]/conc[i,4])*(conc[i,7]/(KHO+conc[i,7])+ηh*KHO/(KHO+conc[i,7])*conc[i,8]/(KNO+conc[i,8]))*conc[i,4],\n",
    "                     P8])\n",
    "    delreac=delt*np.dot(processrate,kinectmatrix)\n",
    "#KLae: KLa equivalent\n",
    "#DOdiff: DOsetpoint = Do - DOsetpoint\n",
    "    KLae = (kp*(DOsetpoint-conc[i,7])+i*delt*ki*np.sum(DOdiff)+kd*((0-delreac[7])/delt))/(CS-conc[i,7])\n",
    "    if KLae<minkla:\n",
    "          KLa=minkla\n",
    "    elif minkla<KLae<=maxkla:\n",
    "          KLa=KLae\n",
    "    else:\n",
    "          KLa=maxkla\n",
    "    KLaarray=np.append(KLaarray,KLa)\n",
    "    DOdiff=np.append(DOdiff,DOsetpoint-conc[i,7])\n",
    "    delaero=[0,0,0,0,0,0,0,delt*KLa*(CS-conc[i,7]),0,0,0,0,0]\n",
    "    delconc=np.sum([delaero,delreac],axis=0)\n",
    "    conc= np.row_stack((conc,conc[i]+delconc))\n",
    "    i=i+1\n",
    "print(conc.shape)\n"
   ]
  },
  {
   "cell_type": "code",
   "execution_count": 35,
   "metadata": {},
   "outputs": [
    {
     "data": {
      "image/png": "[encoded data removed]",
      "text/plain": [
       "<Figure size 432x288 with 1 Axes>"
      ]
     },
     "metadata": {
      "needs_background": "light"
     },
     "output_type": "display_data"
    },
    {
     "data": {
      "image/png": "[encoded data removed]",
      "text/plain": [
       "<Figure size 432x288 with 1 Axes>"
      ]
     },
     "metadata": {
      "needs_background": "light"
     },
     "output_type": "display_data"
    },
    {
     "name": "stdout",
     "output_type": "stream",
     "text": [
      "After 0.4166666666666667 days operation\n",
      "SI = 30.0\n",
      "SS = 143.90327127520817\n",
      "XI = 15.0\n",
      "XS = 10.531057207092402\n",
      "XH = 153.42655247926862\n",
      "XA = 0.0\n",
      "XP = 1.389457234116687\n",
      "SO = 5.878842477034108\n",
      "SNO = 1.0732989077332285e-17\n",
      "SNH = 10.033212302312405\n",
      "SND = 4.554641610827626\n",
      "XND = 1.2843372320819946\n",
      "ALK = 5.0738008787365825\n"
     ]
    },
    {
     "data": {
      "image/png": "[encoded data removed]",
      "text/plain": [
       "<Figure size 432x288 with 1 Axes>"
      ]
     },
     "metadata": {
      "needs_background": "light"
     },
     "output_type": "display_data"
    }
   ],
   "source": [
    "import matplotlib.pyplot as plt\n",
    "%matplotlib inline\n",
    "plt.figure(1)\n",
    "line = plt.plot(24*60*timerange, np.array(conc[:,7]), '-', label='DO')\n",
    "plt.ylim([0,10])\n",
    "plt.legend()\n",
    "plt.ylabel('g/$m^3$')\n",
    "plt.xlabel('Time (min)')\n",
    "plt.show()\n",
    "plt.figure(2)\n",
    "line1 = plt.plot(24*60*timerange, np.array(conc[:,1]+conc[:,3]), '-', label='BOD')\n",
    "line2 = plt.plot(24*60*timerange, np.array(conc[:,0]+conc[:,1]+conc[:,2]+conc[:,3]+conc[:,4]+conc[:,5]+conc[:,6]), '-', label='COD')\n",
    "line3 = plt.plot(24*60*timerange, np.array(conc[:,2]+conc[:,3]+conc[:,4]+conc[:,5]+conc[:,6]), '-', label='MLSS')\n",
    "plt.legend()\n",
    "plt.ylabel('g/$m^3$')\n",
    "plt.xlabel('Time (min)')\n",
    "plt.show()\n",
    "print('After',T,'days operation')\n",
    "print('SI =',conc[-1,0])\n",
    "print('SS =',conc[-1,1])\n",
    "print('XI =',conc[-1,2])\n",
    "print('XS =',conc[-1,3])\n",
    "print('XH =',conc[-1,4])\n",
    "print('XA =',conc[-1,5])\n",
    "print('XP =',conc[-1,6])\n",
    "print('SO =',conc[-1,7])\n",
    "print('SNO =',conc[-1,8])\n",
    "print('SNH =',conc[-1,9])\n",
    "print('SND =',conc[-1,10])\n",
    "print('XND =',conc[-1,11])\n",
    "print('ALK =',conc[-1,12])\n",
    "plt.figure(3)\n",
    "line1 = plt.plot(24*60*timerange,KLaarray, '-', label='KLa')\n",
    "plt.legend()\n",
    "plt.ylabel('$day^-1$')\n",
    "plt.xlabel('Time (min)')\n",
    "plt.show()"
   ]
  },
  {
   "cell_type": "code",
   "execution_count": null,
   "metadata": {},
   "outputs": [],
   "source": []
  },
  {
   "cell_type": "code",
   "execution_count": null,
   "metadata": {},
   "outputs": [],
   "source": []
  },
  {
   "cell_type": "code",
   "execution_count": null,
   "metadata": {},
   "outputs": [],
   "source": []
  }
 ],
 "metadata": {
  "kernelspec": {
   "display_name": "Python 3",
   "language": "python",
   "name": "python3"
  },
  "language_info": {
   "codemirror_mode": {
    "name": "ipython",
    "version": 3
   },
   "file_extension": ".py",
   "mimetype": "text/x-python",
   "name": "python",
   "nbconvert_exporter": "python",
   "pygments_lexer": "ipython3",
   "version": "3.7.3"
  }
 },
 "nbformat": 4,
 "nbformat_minor": 4
}
