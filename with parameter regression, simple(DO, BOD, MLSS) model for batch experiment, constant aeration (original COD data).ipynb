{
 "cells": [
  {
   "cell_type": "markdown",
   "metadata": {},
   "source": [
    "This code can calculate parameters below by regression:  \n",
    "µ, maximum gross growth rate,$day^{-1}$  \n",
    "kd, death rate,$day^{-1}$  \n",
    "kla, $day^{-1}$  \n",
    "\n",
    "\n",
    "Equations for batch experiments, constant aeration  \n",
    "MLSS: $$\\frac{dMLSS}{dt} = \\mu*\\frac{S_{BOD}}{K_{BOD}+S_{BOD}}*\\frac{S_{O_2}}{K_{O_2}+S_{O_2}}*MLSS-kd*MLSS$$  \n",
    "BOD: $$\\frac{dBOD}{dt} = -\\frac{\\mu}{Y}*\\frac{S_{BOD}}{K_{BOD}+S_{BOD}}*\\frac{S_{O_2}}{K_{O_2}+S_{O_2}}*MLSS$$\n",
    "DO: $$\\frac{dDO}{dt} = -\\frac{\\mu}{Y}*\\frac{S_{BOD}}{K_{BOD}+S_{BOD}}*\\frac{S_{O_2}}{K_{O_2}+S_{O_2}}*MLSS+K_{L}a*(CS-S_{O_2})$$"
   ]
  },
  {
   "cell_type": "code",
   "execution_count": 3,
   "metadata": {},
   "outputs": [
    {
     "name": "stderr",
     "output_type": "stream",
     "text": [
      "C:\\ProgramData\\Anaconda3\\lib\\site-packages\\ipykernel_launcher.py:55: RuntimeWarning: overflow encountered in double_scalars\n",
      "C:\\ProgramData\\Anaconda3\\lib\\site-packages\\ipykernel_launcher.py:55: RuntimeWarning: invalid value encountered in double_scalars\n",
      "C:\\ProgramData\\Anaconda3\\lib\\site-packages\\scipy\\integrate\\odepack.py:247: ODEintWarning: Illegal input detected (internal error). Run with full_output = 1 to get quantitative information.\n",
      "  warnings.warn(warning_msg, ODEintWarning)\n"
     ]
    },
    {
     "data": {
      "image/png": "[encoded data removed]",
      "text/plain": [
       "<Figure size 432x288 with 1 Axes>"
      ]
     },
     "metadata": {
      "needs_background": "light"
     },
     "output_type": "display_data"
    },
    {
     "data": {
      "image/png": "[encoded data removed]",
      "text/plain": [
       "<Figure size 432x288 with 1 Axes>"
      ]
     },
     "metadata": {
      "needs_background": "light"
     },
     "output_type": "display_data"
    },
    {
     "name": "stdout",
     "output_type": "stream",
     "text": [
      "µ = 345.2636370694998\n",
      "kd = 0.06989117755417586\n",
      "kla = 4.019942019218102\n"
     ]
    }
   ],
   "source": [
    "#kbod, BOD saturation constant, mg/L\n",
    "kbod=20\n",
    "#ko2,oxygen saturation constant, mg/L\n",
    "ko2=0.1\n",
    "#Y, growth yield coefficient, g cell/g BOD\n",
    "Y=1.1\n",
    "#CS,Saturated DO concentration,mg/L\n",
    "CS=8.5\n",
    "\n",
    "import csv\n",
    "import numpy as np\n",
    "from scipy.optimize import curve_fit\n",
    "from scipy.integrate import odeint\n",
    "import matplotlib.pyplot as plt\n",
    "\n",
    "time=[]\n",
    "MLSS=[]\n",
    "BOD=[]\n",
    "DO=[]\n",
    "with open('test data for simple model.csv',encoding='utf-8-sig') as csvfile:\n",
    "    reader = csv.reader(csvfile)\n",
    "    for row in reader:\n",
    "        time += [row[0]]\n",
    "        MLSS += [row[1]]\n",
    "        BOD += [row[2]]\n",
    "        DO += [row[3]]\n",
    "time = np.asfarray(time,float)\n",
    "MLSS = np.asfarray(MLSS,float)\n",
    "BOD = np.asfarray(BOD,float)\n",
    "DO = np.asfarray(DO,float)\n",
    "\n",
    "time=np.array(time[13:-1]-13)\n",
    "MLSS =np.array(MLSS[13:-1])\n",
    "BOD =np.array(BOD[13:-1])\n",
    "DO =np.array(DO[13:-1])\n",
    "\n",
    "xaxisData = np.array(time) \n",
    "yaxisData = np.array([MLSS,BOD,DO])\n",
    "\n",
    "# Guesses for parameters\n",
    "µguess = 180; \n",
    "kdguess = 0.1; \n",
    "klaguess = 4; \n",
    "parameterGuesses = np.array([µguess,kdguess,klaguess])\n",
    "\n",
    "#Define ODEs \n",
    "def ODE_definition(y,t,args): \n",
    "    y0 = y[0]\n",
    "    y1 = y[1]\n",
    "    y2 = y[2]\n",
    "    µ = args[0]\n",
    "    kd = args[1]\n",
    "    kla = args[2]\n",
    "    \n",
    "    dy0dt = 𝜇*y1/(kbod+y1)*y2/(ko2+y2)*y0-kd*y0\n",
    "    dy1dt = -𝜇/Y*y1/(kbod+y1)*y2/(ko2+y2)*y0\n",
    "    dy2dt = -𝜇/Y*y1/(kbod+y1)*y2/(ko2+y2)*y0+kla*(CS-y2)\n",
    "    return dy0dt, dy1dt, dy2dt\n",
    "\n",
    "def ODEmodel(xaxisData,*params):\n",
    "    yaxis0 = np.array([i[0] for i in yaxisData])\n",
    "    numYaxisVariables = 3 \n",
    "    yaxisOutput = np.zeros((xaxisData.size,numYaxisVariables)) \n",
    "    for i in np.arange(0,len(xaxisData)):\n",
    "        xaxisIncrement = 0.01 \n",
    "        xaxisSpan = np.arange(0,xaxisData[i]+xaxisIncrement,xaxisIncrement)\n",
    "        y_calc = odeint(ODE_definition,yaxis0,xaxisSpan,args=(params,))\n",
    "        yaxisOutput[i,:]=y_calc[-1,:]\n",
    "        \n",
    "    yaxisOutput = np.transpose(yaxisOutput)\n",
    "    yaxisOutput = np.ravel(yaxisOutput)\n",
    "    return yaxisOutput\n",
    "\n",
    "parametersoln, pcov = curve_fit(ODEmodel,xaxisData,np.ravel(yaxisData),p0=parameterGuesses)\n",
    "\n",
    "plt.figure(1)\n",
    "plt.plot(xaxisData, yaxisData[0,:],'o') \n",
    "plt.plot(xaxisData, yaxisData[1,:],'x') \n",
    "xforPlotting = np.linspace(0,xaxisData[-1],100)\n",
    "numYaxisVariables = 3\n",
    "y_calculated = ODEmodel(xforPlotting,*parametersoln)\n",
    "y_calculated = np.reshape(y_calculated,(numYaxisVariables,xforPlotting.size))\n",
    "line1 =plt.plot(xforPlotting, y_calculated[0,:],'b-',label='MLSS') \n",
    "line2 =plt.plot(xforPlotting, y_calculated[1,:],'r-',label='BOD')  \n",
    "plt.xlabel('time')\n",
    "plt.ylabel('concentration')\n",
    "plt.legend()\n",
    "plt.show()\n",
    "\n",
    "plt.figure(2)\n",
    "plt.plot(xaxisData, yaxisData[2,:],'d')\n",
    "xforPlotting = np.linspace(0,xaxisData[-1],100)\n",
    "numYaxisVariables = 3\n",
    "y_calculated = ODEmodel(xforPlotting,*parametersoln)\n",
    "y_calculated = np.reshape(y_calculated,(numYaxisVariables,xforPlotting.size))\n",
    "line1 =plt.plot(xforPlotting, y_calculated[2,:],'b-',label='DO') \n",
    "plt.xlabel('time')\n",
    "plt.ylabel('DO')\n",
    "plt.legend()\n",
    "plt.show()\n",
    "\n",
    "print('µ =',parametersoln[0])\n",
    "print('kd =',parametersoln[1])\n",
    "print('kla =',parametersoln[2])"
   ]
  },
  {
   "cell_type": "code",
   "execution_count": null,
   "metadata": {},
   "outputs": [],
   "source": []
  }
 ],
 "metadata": {
  "kernelspec": {
   "display_name": "Python 3",
   "language": "python",
   "name": "python3"
  },
  "language_info": {
   "codemirror_mode": {
    "name": "ipython",
    "version": 3
   },
   "file_extension": ".py",
   "mimetype": "text/x-python",
   "name": "python",
   "nbconvert_exporter": "python",
   "pygments_lexer": "ipython3",
   "version": "3.7.3"
  }
 },
 "nbformat": 4,
 "nbformat_minor": 4
}
